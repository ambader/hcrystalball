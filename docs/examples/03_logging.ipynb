{
 "cells": [
  {
   "cell_type": "markdown",
   "metadata": {},
   "source": [
    "# Logging best practices"
   ]
  },
  {
   "cell_type": "code",
   "execution_count": null,
   "metadata": {},
   "outputs": [],
   "source": [
    "import pandas as pd\n",
    "import matplotlib.pyplot as plt\n",
    "import logging\n",
    "# import warnings\n",
    "# warnings.simplefilter('ignore')\n",
    "plt.style.use('seaborn')\n",
    "plt.rcParams['figure.figsize'] = [12, 6]"
   ]
  },
  {
   "cell_type": "code",
   "execution_count": null,
   "metadata": {},
   "outputs": [],
   "source": [
    "# from statsmodels.tools.sm_exceptions import *\n",
    "# warnings.simplefilter('ignore', ConvergenceWarning)\n",
    "# warnings.simplefilter(\"ignore\", FutureWarning)\n",
    "# warnings.simplefilter(\"ignore\", UserWarning)\n",
    "# warnings.simplefilter(\"ignore\", ValueWarning)"
   ]
  },
  {
   "cell_type": "code",
   "execution_count": null,
   "metadata": {},
   "outputs": [],
   "source": [
    "# log_stats = logging.getLogger(\"py.warnings\")\n",
    "# log_stats.setLevel(logging.CRITICAL)"
   ]
  },
  {
   "cell_type": "code",
   "execution_count": null,
   "metadata": {},
   "outputs": [],
   "source": [
    "# log_prophet = logging.getLogger(\"fbprophet\")\n",
    "# log_prophet.setLevel(logging.WARNING)"
   ]
  },
  {
   "cell_type": "code",
   "execution_count": null,
   "metadata": {},
   "outputs": [],
   "source": [
    "# from statsmodels.tools.sm_exceptions import *\n",
    "# warnings.simplefilter('ignore', ConvergenceWarning)\n",
    "# warnings.simplefilter(\"ignore\", FutureWarning)\n",
    "# warnings.simplefilter(\"ignore\", UserWarning)\n",
    "# warnings.simplefilter(\"ignore\", ValueWarning)"
   ]
  },
  {
   "cell_type": "code",
   "execution_count": null,
   "metadata": {},
   "outputs": [],
   "source": [
    "from hcrystalball.utils import get_sales_data\n",
    "\n",
    "df = get_sales_data(n_dates=100, \n",
    "                    n_assortments=2, \n",
    "                    n_states=2, \n",
    "                    n_stores=2)"
   ]
  },
  {
   "cell_type": "code",
   "execution_count": null,
   "metadata": {},
   "outputs": [],
   "source": [
    "from hcrystalball.model_selection import ModelSelector\n",
    "\n",
    "ms = ModelSelector(horizon=10, \n",
    "                   frequency='D', \n",
    "                   country_code_column='HolidayCode',                   \n",
    "                  )\n",
    "\n",
    "ms.create_gridsearch(sklearn_models=False,\n",
    "                    n_splits = 2,\n",
    "                    between_split_lag=None,\n",
    "                    sklearn_models_optimize_for_horizon=False,\n",
    "                    autosarimax_models=False,\n",
    "                    prophet_models=False,\n",
    "                    tbats_models=False,\n",
    "                    exp_smooth_models=False,\n",
    "                    average_ensembles=False,\n",
    "                    stacking_ensembles=False,                    \n",
    "                    exog_cols=['Open','Promo','SchoolHoliday','Promo2'],\n",
    "#                     holidays_days_before=2, \n",
    "#                     holidays_days_after=1, \n",
    "#                     holidays_bridge_days=True, \n",
    "                    )"
   ]
  },
  {
   "cell_type": "code",
   "execution_count": null,
   "metadata": {},
   "outputs": [],
   "source": [
    "from hcrystalball.wrappers import get_sklearn_wrapper, ProphetWrapper, SarimaxWrapper, ExponentialSmoothingWrapper, ThetaWrapper\n",
    "from sklearn.linear_model import LinearRegression\n",
    "\n",
    "# ms.add_model_to_gridsearch(get_sklearn_wrapper(LinearRegression))\n",
    "# ms.add_model_to_gridsearch(ProphetWrapper())\n",
    "# ms.add_model_to_gridsearch(SarimaxWrapper(init_with_autoarima=True))\n",
    "# ms.add_model_to_gridsearch(SarimaxWrapper(order=(1,0,1)))\n",
    "# ms.add_model_to_gridsearch(ThetaWrapper())\n",
    "ms.add_model_to_gridsearch(ExponentialSmoothingWrapper(hcb_verbose=True))"
   ]
  },
  {
   "cell_type": "code",
   "execution_count": null,
   "metadata": {},
   "outputs": [],
   "source": [
    "# from prefect.engine.executors import LocalDaskExecutor\n",
    "ms.select_model(df=df,\n",
    "                target_col_name='Sales',\n",
    "                partition_columns=['Assortment', 'State','Store'],\n",
    "#                 parallel_over_columns=['Assortment'],\n",
    "#                 persist_model_selector_results=False,\n",
    "#                 output_path='my_results',\n",
    "#                 executor = LocalDaskExecutor(),                \n",
    "               )"
   ]
  },
  {
   "cell_type": "code",
   "execution_count": null,
   "metadata": {},
   "outputs": [],
   "source": [
    "# from prefect.engine.executors import LocalDaskExecutor\n",
    "ms.select_model(df=df,\n",
    "                target_col_name='Sales',\n",
    "                partition_columns=['Assortment', 'State','Store'],\n",
    "                parallel_over_columns=['Assortment'],\n",
    "#                 persist_model_selector_results=False,\n",
    "#                 output_path='my_results',\n",
    "#                 executor = LocalDaskExecutor(),                \n",
    "               )"
   ]
  },
  {
   "cell_type": "code",
   "execution_count": null,
   "metadata": {},
   "outputs": [],
   "source": [
    "from prefect.engine.executors import LocalDaskExecutor\n",
    "ms.select_model(df=df,\n",
    "                target_col_name='Sales',\n",
    "                partition_columns=['Assortment', 'State','Store'],\n",
    "                parallel_over_columns=['Assortment'],\n",
    "#                 persist_model_selector_results=False,\n",
    "#                 output_path='my_results',\n",
    "                executor = LocalDaskExecutor(),                \n",
    "               )"
   ]
  }
 ],
 "metadata": {
  "kernelspec": {
   "display_name": "Python 3",
   "language": "python",
   "name": "python3"
  },
  "language_info": {
   "codemirror_mode": {
    "name": "ipython",
    "version": 3
   },
   "file_extension": ".py",
   "mimetype": "text/x-python",
   "name": "python",
   "nbconvert_exporter": "python",
   "pygments_lexer": "ipython3",
   "version": "3.7.9"
  }
 },
 "nbformat": 4,
 "nbformat_minor": 4
}
